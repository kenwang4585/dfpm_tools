{
 "cells": [
  {
   "cell_type": "code",
   "execution_count": 1,
   "metadata": {
    "collapsed": false,
    "pycharm": {
     "is_executing": false,
     "name": "#%%\n"
    }
   },
   "outputs": [],
   "source": [
    "import pandas as pd\n",
    "import os"
   ]
  },
  {
   "cell_type": "code",
   "execution_count": 2,
   "metadata": {},
   "outputs": [
    {
     "data": {
      "text/plain": [
       "'/Users/wangken/py/auto/summary_3a4'"
      ]
     },
     "execution_count": 2,
     "metadata": {},
     "output_type": "execute_result"
    }
   ],
   "source": [
    "os.getcwd()"
   ]
  },
  {
   "cell_type": "code",
   "execution_count": 4,
   "metadata": {
    "collapsed": false,
    "pycharm": {
     "is_executing": false,
     "name": "#%%\n"
    }
   },
   "outputs": [],
   "source": [
    "df=pd.read_excel('/Users/wangken/downloads/outlier test.xlsx')\n",
    "               #parse_dates=['CUSTOMER_REQUEST_DATE', 'LT_TARGET_FCD', 'CURRENT_FCD_NBD_DATE'],\n",
    "               #encoding='ISO-8859-1',)\n"
   ]
  },
  {
   "cell_type": "code",
   "execution_count": 5,
   "metadata": {
    "collapsed": false,
    "pycharm": {
     "is_executing": false,
     "name": "#%%\n"
    }
   },
   "outputs": [
    {
     "data": {
      "text/plain": [
       "Index(['ORGANIZATION_CODE', 'BUSINESS_UNIT', 'PRODUCT_FAMILY', 'TIED_SHIP_SET',\n",
       "       'SO_SS', 'PO_NUMBER', 'OPTION_NUMBER', 'PRODUCT_ID', 'TAN',\n",
       "       'ORDERED_QUANTITY', 'C_UNSTAGED_QTY', 'C_STAGED_QTY',\n",
       "       'C_UNSTAGED_DOLLARS', 'SOL_REVENUE', 'BOOKED_DATE',\n",
       "       'LINE_CREATION_DATE', 'CURRENT_FCD_NBD_DATE', 'CURRENT_PROMISE_DATE',\n",
       "       'ORIGINAL_FCD_NBD_DATE', 'ORIGINAL_PROMISE_DATE', 'TARGET_SSD',\n",
       "       'CUSTOMER_REQUEST_DATE', 'CUSTOMER_REQUESTED_SHIP_DATE',\n",
       "       'LT_TARGET_FCD', 'MFG_HOLD', 'ORDER_HOLDS', 'ADDRESSABLE_FLAG',\n",
       "       'PACKOUT_QUANTITY', 'TAA', 'ASN_CREATION_DATE',\n",
       "       'OTM_SHIPPING_ROUTE_CODE', 'END_CUSTOMER_COUNTRY', 'END_CUSTOMER_NAME',\n",
       "       'SHIP_TO_COUNTRY', 'END_TO_COUNTRY', 'SHIP_TO_CUSTOMER_NAME', 'MCD',\n",
       "       'MEET_LT_GOAL_FLAG', 'COMMENTS', 'SALES_ORDER_OPERATING_UNIT',\n",
       "       'main_bu', 'main_pf', 'po_rev', 'ss_rev', 'po_unstaged_rev',\n",
       "       'po_staged_rev', 'category_comments', 'po_rev_rank_bu',\n",
       "       'ss_rev_rank_bu', 'exception_recommendation', 'entered_not_booked',\n",
       "       'booked_not_scheduled', 'missed_ossd', 'ss_partial_staged_days',\n",
       "       'po_unstaged', 'partial_comments', 'need_rtv', 'cancel_aging_days'],\n",
       "      dtype='object')"
      ]
     },
     "execution_count": 5,
     "metadata": {},
     "output_type": "execute_result"
    }
   ],
   "source": [
    "df.columns"
   ]
  },
  {
   "cell_type": "code",
   "execution_count": 9,
   "metadata": {
    "collapsed": false,
    "pycharm": {
     "name": "#%%\n"
    }
   },
   "outputs": [],
   "source": [
    "df[:10000].to_excel('outlier partial.xlsx')"
   ]
  },
  {
   "cell_type": "code",
   "execution_count": null,
   "metadata": {},
   "outputs": [],
   "source": []
  }
 ],
 "metadata": {
  "kernelspec": {
   "display_name": "Python 3",
   "language": "python",
   "name": "python3"
  },
  "language_info": {
   "codemirror_mode": {
    "name": "ipython",
    "version": 3
   },
   "file_extension": ".py",
   "mimetype": "text/x-python",
   "name": "python",
   "nbconvert_exporter": "python",
   "pygments_lexer": "ipython3",
   "version": "3.7.1"
  },
  "pycharm": {
   "stem_cell": {
    "cell_type": "raw",
    "metadata": {
     "collapsed": false
    },
    "source": []
   }
  }
 },
 "nbformat": 4,
 "nbformat_minor": 2
}
